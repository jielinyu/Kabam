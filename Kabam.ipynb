{
 "cells": [
  {
   "cell_type": "markdown",
   "metadata": {},
   "source": [
    "## Import Package"
   ]
  },
  {
   "cell_type": "code",
   "execution_count": 362,
   "metadata": {},
   "outputs": [],
   "source": [
    "import pandas as pd \n",
    "import pyarrow.parquet as pq\n",
    "import sqlite3\n",
    "import time\n",
    "import numpy as np\n",
    "import seaborn as sns\n",
    "import matplotlib.pyplot as plt\n",
    "import warnings\n",
    "warnings.filterwarnings('ignore')\n",
    "from scipy import stats\n",
    "\n",
    "# Preprocess data \n",
    "from sklearn.preprocessing import StandardScaler\n",
    "from imblearn.over_sampling import SMOTE \n",
    "from imblearn.under_sampling import RandomUnderSampler\n",
    "from imblearn.pipeline import Pipeline\n",
    "from sklearn.model_selection import train_test_split, GridSearchCV, RandomizedSearchCV, cross_val_score\n",
    "\n",
    "# Classification model\n",
    "from sklearn.linear_model import LogisticRegression\n",
    "from sklearn.ensemble import RandomForestClassifier\n",
    "from sklearn.naive_bayes import BernoulliNB\n",
    "from sklearn.neighbors import KNeighborsClassifier\n",
    "from lightgbm import LGBMClassifier\n",
    "from sklearn.svm import SVC\n",
    "\n",
    "# Evaluation Metric\n",
    "from sklearn.metrics import accuracy_score, recall_score, confusion_matrix, roc_auc_score, f1_score\n",
    "from sklearn import metrics\n",
    "\n",
    "# save model\n",
    "import joblib"
   ]
  },
  {
   "cell_type": "markdown",
   "metadata": {},
   "source": [
    "## Read Data"
   ]
  },
  {
   "cell_type": "code",
   "execution_count": 279,
   "metadata": {},
   "outputs": [],
   "source": [
    "ka_users = pd.read_csv('kabam_ds_interview/ka_users.csv')\n",
    "ka_actions = pq.read_table('kabam_ds_interview/ka_actions.parquet').to_pandas()\n",
    "con = sqlite3.connect('kabam_ds_interview/ka_devices.db')\n",
    "ka_devices = pd.read_sql_query('select * from devices',con).drop('index',axis = 1)"
   ]
  },
  {
   "cell_type": "markdown",
   "metadata": {},
   "source": [
    "## Explore ka_devices"
   ]
  },
  {
   "cell_type": "code",
   "execution_count": 19,
   "metadata": {},
   "outputs": [
    {
     "data": {
      "text/html": [
       "<div>\n",
       "<style scoped>\n",
       "    .dataframe tbody tr th:only-of-type {\n",
       "        vertical-align: middle;\n",
       "    }\n",
       "\n",
       "    .dataframe tbody tr th {\n",
       "        vertical-align: top;\n",
       "    }\n",
       "\n",
       "    .dataframe thead th {\n",
       "        text-align: right;\n",
       "    }\n",
       "</style>\n",
       "<table border=\"1\" class=\"dataframe\">\n",
       "  <thead>\n",
       "    <tr style=\"text-align: right;\">\n",
       "      <th></th>\n",
       "      <th>uid_s</th>\n",
       "      <th>platform_s</th>\n",
       "      <th>device_mapped_s</th>\n",
       "      <th>device_manufacturer_s</th>\n",
       "      <th>device_mem_i</th>\n",
       "      <th>device_gmem_i</th>\n",
       "      <th>device_mem_grouping_i</th>\n",
       "      <th>device_gmem_grouping_i</th>\n",
       "      <th>device_numcpu_i</th>\n",
       "      <th>device_height_i</th>\n",
       "      <th>device_gpu_s</th>\n",
       "      <th>device_os_s</th>\n",
       "      <th>device_model_s</th>\n",
       "    </tr>\n",
       "  </thead>\n",
       "  <tbody>\n",
       "    <tr>\n",
       "      <th>0</th>\n",
       "      <td>0</td>\n",
       "      <td>android</td>\n",
       "      <td>asus_x01ad</td>\n",
       "      <td>asus</td>\n",
       "      <td>3575.0</td>\n",
       "      <td>1024.0</td>\n",
       "      <td>3584.0</td>\n",
       "      <td>1024.0</td>\n",
       "      <td>8.0</td>\n",
       "      <td>720.0</td>\n",
       "      <td>adreno (tm) 506</td>\n",
       "      <td>android os 9 / api-28 (ww_phone-201905061022/1...</td>\n",
       "      <td>asus_x01ad</td>\n",
       "    </tr>\n",
       "    <tr>\n",
       "      <th>1</th>\n",
       "      <td>1</td>\n",
       "      <td>android</td>\n",
       "      <td>moto g (5)</td>\n",
       "      <td>motorola</td>\n",
       "      <td>1867.0</td>\n",
       "      <td>512.0</td>\n",
       "      <td>1920.0</td>\n",
       "      <td>512.0</td>\n",
       "      <td>8.0</td>\n",
       "      <td>1080.0</td>\n",
       "      <td>adreno (tm) 505</td>\n",
       "      <td>android os 8.1.0 / api-27 (opps28.85-13-6/04442)</td>\n",
       "      <td>moto g (5)</td>\n",
       "    </tr>\n",
       "    <tr>\n",
       "      <th>2</th>\n",
       "      <td>2</td>\n",
       "      <td>android</td>\n",
       "      <td>mi 6</td>\n",
       "      <td>xiaomi</td>\n",
       "      <td>3726.0</td>\n",
       "      <td>1024.0</td>\n",
       "      <td>3776.0</td>\n",
       "      <td>1024.0</td>\n",
       "      <td>8.0</td>\n",
       "      <td>1080.0</td>\n",
       "      <td>adreno (tm) 540</td>\n",
       "      <td>android os 8.0.0 / api-26 (opr1.170623.027/v10...</td>\n",
       "      <td>mi 6</td>\n",
       "    </tr>\n",
       "    <tr>\n",
       "      <th>3</th>\n",
       "      <td>3</td>\n",
       "      <td>android</td>\n",
       "      <td>oppo r7splus</td>\n",
       "      <td>oppo</td>\n",
       "      <td>3629.0</td>\n",
       "      <td>1024.0</td>\n",
       "      <td>3648.0</td>\n",
       "      <td>1024.0</td>\n",
       "      <td>8.0</td>\n",
       "      <td>1080.0</td>\n",
       "      <td>adreno (tm) 405</td>\n",
       "      <td>android os 5.1.1 / api-22 (lmy47v/eng.root.201...</td>\n",
       "      <td>oppo r7splus</td>\n",
       "    </tr>\n",
       "    <tr>\n",
       "      <th>4</th>\n",
       "      <td>4</td>\n",
       "      <td>android</td>\n",
       "      <td>cph1803</td>\n",
       "      <td>oppo</td>\n",
       "      <td>2816.0</td>\n",
       "      <td>1024.0</td>\n",
       "      <td>2816.0</td>\n",
       "      <td>1024.0</td>\n",
       "      <td>8.0</td>\n",
       "      <td>720.0</td>\n",
       "      <td>adreno (tm) 506</td>\n",
       "      <td>android os 8.1.0 / api-27 (opm1.171019.026/155...</td>\n",
       "      <td>cph1803</td>\n",
       "    </tr>\n",
       "  </tbody>\n",
       "</table>\n",
       "</div>"
      ],
      "text/plain": [
       "   uid_s platform_s device_mapped_s device_manufacturer_s  device_mem_i  \\\n",
       "0      0    android      asus_x01ad                  asus        3575.0   \n",
       "1      1    android      moto g (5)              motorola        1867.0   \n",
       "2      2    android            mi 6                xiaomi        3726.0   \n",
       "3      3    android    oppo r7splus                  oppo        3629.0   \n",
       "4      4    android         cph1803                  oppo        2816.0   \n",
       "\n",
       "   device_gmem_i  device_mem_grouping_i  device_gmem_grouping_i  \\\n",
       "0         1024.0                 3584.0                  1024.0   \n",
       "1          512.0                 1920.0                   512.0   \n",
       "2         1024.0                 3776.0                  1024.0   \n",
       "3         1024.0                 3648.0                  1024.0   \n",
       "4         1024.0                 2816.0                  1024.0   \n",
       "\n",
       "   device_numcpu_i  device_height_i     device_gpu_s  \\\n",
       "0              8.0            720.0  adreno (tm) 506   \n",
       "1              8.0           1080.0  adreno (tm) 505   \n",
       "2              8.0           1080.0  adreno (tm) 540   \n",
       "3              8.0           1080.0  adreno (tm) 405   \n",
       "4              8.0            720.0  adreno (tm) 506   \n",
       "\n",
       "                                         device_os_s device_model_s  \n",
       "0  android os 9 / api-28 (ww_phone-201905061022/1...     asus_x01ad  \n",
       "1   android os 8.1.0 / api-27 (opps28.85-13-6/04442)     moto g (5)  \n",
       "2  android os 8.0.0 / api-26 (opr1.170623.027/v10...           mi 6  \n",
       "3  android os 5.1.1 / api-22 (lmy47v/eng.root.201...   oppo r7splus  \n",
       "4  android os 8.1.0 / api-27 (opm1.171019.026/155...        cph1803  "
      ]
     },
     "execution_count": 19,
     "metadata": {},
     "output_type": "execute_result"
    }
   ],
   "source": [
    "ka_devices.head()"
   ]
  },
  {
   "cell_type": "code",
   "execution_count": 29,
   "metadata": {},
   "outputs": [
    {
     "data": {
      "text/plain": [
       "uid_s                     2845931\n",
       "platform_s                      2\n",
       "device_mapped_s             18978\n",
       "device_manufacturer_s        3030\n",
       "device_mem_i                 2444\n",
       "device_gmem_i                   9\n",
       "device_mem_grouping_i         113\n",
       "device_gmem_grouping_i          9\n",
       "device_numcpu_i                13\n",
       "device_height_i               216\n",
       "device_gpu_s                  567\n",
       "device_os_s                 75074\n",
       "device_model_s              19085\n",
       "dtype: int64"
      ]
     },
     "execution_count": 29,
     "metadata": {},
     "output_type": "execute_result"
    }
   ],
   "source": [
    "# Check unique values of each column\n",
    "ka_devices.apply(lambda x: len(x.unique()))"
   ]
  },
  {
   "cell_type": "markdown",
   "metadata": {},
   "source": [
    "### First Thought\n",
    "**device_mapped_s**: does not have much business value, large amount of levels, highly correlated to **device_model_s**, need to drop <br>\n",
    "**device_model_s**: same as **device_mapped_s**, need to drop <br>\n",
    "**device_os_s**: highly correlated with and has similar business value with **platform_s**, need to drop <br>\n",
    "**device_mem_i**: have same business value with **device_mem_grouping_i**, need to drop <br>\n",
    "**device_gmem_i**: same with **device_gmem_grouping_i**, need to drop <br>\n",
    "**device_manufacturer_s**: should limit the levels of manufacturer eg. group manufacturer whose count is less than 1% of data as 'Other'; Drop NA rows<br> \n",
    "**device_gpu_s**: should limit the levels of gpu eg. group gpu whose count is less than 1% of data as 'Other'<br>\n",
    "**device_mem_grouping_i**: numerical variable, check outliers<br>\n",
    "**device_gmem_grouping_i**: numerical variable, check outliers<br>\n",
    "**device_numcpu_i**: numerical variable, check outliers<br>\n",
    "**device_height_i**: numerical variable, check outliers<br>"
   ]
  },
  {
   "cell_type": "code",
   "execution_count": 82,
   "metadata": {
    "scrolled": true
   },
   "outputs": [
    {
     "data": {
      "text/plain": [
       "uid_s                     0\n",
       "platform_s                0\n",
       "device_mapped_s           5\n",
       "device_manufacturer_s     5\n",
       "device_mem_i              0\n",
       "device_gmem_i             0\n",
       "device_mem_grouping_i     0\n",
       "device_gmem_grouping_i    0\n",
       "device_numcpu_i           0\n",
       "device_height_i           0\n",
       "device_gpu_s              0\n",
       "device_os_s               0\n",
       "device_model_s            5\n",
       "dtype: int64"
      ]
     },
     "execution_count": 82,
     "metadata": {},
     "output_type": "execute_result"
    }
   ],
   "source": [
    "# Check Null Value\n",
    "ka_devices.isnull().sum()"
   ]
  },
  {
   "cell_type": "code",
   "execution_count": null,
   "metadata": {},
   "outputs": [],
   "source": [
    "def select_features(df,col):\n",
    "    '''\n",
    "    Limit the levels of categorical variables.\n",
    "    input: \n",
    "        df: DataFrame\n",
    "        col: Columns in DataFrame\n",
    "    \n",
    "    This function is to limit the levels of categorical variables.\n",
    "    Retain levels whose value counts are more than 1% of row number of data. \n",
    "    Replace levels whose value counts are less than 1% of row number of data as 'Other'\n",
    "    '''\n",
    "    l = len(df)\n",
    "    # Retain the levels \n",
    "    value_counts =0.01 * l \n",
    "    mask = df[col].map(df[col].value_counts())< value_counts\n",
    "    df[col] = df[col].mask(mask,'Other')\n",
    "    \n",
    "    return df\n",
    "    \n",
    "    "
   ]
  },
  {
   "cell_type": "code",
   "execution_count": 290,
   "metadata": {},
   "outputs": [],
   "source": [
    "# Remove NA\n",
    "ka_devices = ka_devices.dropna(subset=['device_manufacturer_s'])"
   ]
  },
  {
   "cell_type": "code",
   "execution_count": null,
   "metadata": {},
   "outputs": [],
   "source": [
    "# Drop not useful features \n",
    "ka_devices = ka_devices.drop(['device_mapped_s','device_model_s','device_os_s','device_mem_i','device_gmem_i'],axis = 1)"
   ]
  },
  {
   "cell_type": "code",
   "execution_count": null,
   "metadata": {},
   "outputs": [],
   "source": [
    "# Clean Data\n",
    "ka_devices.device_manufacturer_s = ka_devices.device_manufacturer_s.str.strip()"
   ]
  },
  {
   "cell_type": "code",
   "execution_count": 124,
   "metadata": {},
   "outputs": [],
   "source": [
    "ka_devices = select_features(ka_devices,'device_manufacturer_s')"
   ]
  },
  {
   "cell_type": "code",
   "execution_count": 125,
   "metadata": {},
   "outputs": [
    {
     "data": {
      "text/plain": [
       "<AxesSubplot:>"
      ]
     },
     "execution_count": 125,
     "metadata": {},
     "output_type": "execute_result"
    },
    {
     "data": {
      "image/png": "[encoded data removed]",
      "text/plain": [
       "<Figure size 432x288 with 1 Axes>"
      ]
     },
     "metadata": {
      "needs_background": "light"
     },
     "output_type": "display_data"
    }
   ],
   "source": [
    "ka_devices.device_manufacturer_s.value_counts().plot(kind = 'bar')"
   ]
  },
  {
   "cell_type": "code",
   "execution_count": 126,
   "metadata": {},
   "outputs": [],
   "source": [
    "ka_devices = select_features(ka_devices,'device_gpu_s')"
   ]
  },
  {
   "cell_type": "code",
   "execution_count": 128,
   "metadata": {},
   "outputs": [
    {
     "data": {
      "text/plain": [
       "<AxesSubplot:>"
      ]
     },
     "execution_count": 128,
     "metadata": {},
     "output_type": "execute_result"
    },
    {
     "data": {
      "image/png": "[encoded data removed]",
      "text/plain": [
       "<Figure size 432x288 with 1 Axes>"
      ]
     },
     "metadata": {
      "needs_background": "light"
     },
     "output_type": "display_data"
    }
   ],
   "source": [
    "ka_devices.device_gpu_s.value_counts().plot(kind = 'bar')"
   ]
  },
  {
   "cell_type": "code",
   "execution_count": 131,
   "metadata": {},
   "outputs": [
    {
     "data": {
      "text/html": [
       "<div>\n",
       "<style scoped>\n",
       "    .dataframe tbody tr th:only-of-type {\n",
       "        vertical-align: middle;\n",
       "    }\n",
       "\n",
       "    .dataframe tbody tr th {\n",
       "        vertical-align: top;\n",
       "    }\n",
       "\n",
       "    .dataframe thead th {\n",
       "        text-align: right;\n",
       "    }\n",
       "</style>\n",
       "<table border=\"1\" class=\"dataframe\">\n",
       "  <thead>\n",
       "    <tr style=\"text-align: right;\">\n",
       "      <th></th>\n",
       "      <th>uid_s</th>\n",
       "      <th>device_mem_grouping_i</th>\n",
       "      <th>device_gmem_grouping_i</th>\n",
       "      <th>device_numcpu_i</th>\n",
       "      <th>device_height_i</th>\n",
       "    </tr>\n",
       "  </thead>\n",
       "  <tbody>\n",
       "    <tr>\n",
       "      <th>count</th>\n",
       "      <td>2.845930e+06</td>\n",
       "      <td>2.845930e+06</td>\n",
       "      <td>2.845930e+06</td>\n",
       "      <td>2.845930e+06</td>\n",
       "      <td>2.845930e+06</td>\n",
       "    </tr>\n",
       "    <tr>\n",
       "      <th>mean</th>\n",
       "      <td>1.422965e+06</td>\n",
       "      <td>2.701934e+03</td>\n",
       "      <td>8.180216e+02</td>\n",
       "      <td>5.814524e+00</td>\n",
       "      <td>8.908536e+02</td>\n",
       "    </tr>\n",
       "    <tr>\n",
       "      <th>std</th>\n",
       "      <td>8.215498e+05</td>\n",
       "      <td>2.871435e+03</td>\n",
       "      <td>5.216923e+02</td>\n",
       "      <td>2.426736e+00</td>\n",
       "      <td>2.548661e+02</td>\n",
       "    </tr>\n",
       "    <tr>\n",
       "      <th>min</th>\n",
       "      <td>0.000000e+00</td>\n",
       "      <td>3.840000e+02</td>\n",
       "      <td>1.280000e+02</td>\n",
       "      <td>1.000000e+00</td>\n",
       "      <td>2.400000e+02</td>\n",
       "    </tr>\n",
       "    <tr>\n",
       "      <th>25%</th>\n",
       "      <td>7.114822e+05</td>\n",
       "      <td>1.856000e+03</td>\n",
       "      <td>5.120000e+02</td>\n",
       "      <td>4.000000e+00</td>\n",
       "      <td>7.200000e+02</td>\n",
       "    </tr>\n",
       "    <tr>\n",
       "      <th>50%</th>\n",
       "      <td>1.422964e+06</td>\n",
       "      <td>2.816000e+03</td>\n",
       "      <td>1.024000e+03</td>\n",
       "      <td>8.000000e+00</td>\n",
       "      <td>8.000000e+02</td>\n",
       "    </tr>\n",
       "    <tr>\n",
       "      <th>75%</th>\n",
       "      <td>2.134448e+06</td>\n",
       "      <td>3.648000e+03</td>\n",
       "      <td>1.024000e+03</td>\n",
       "      <td>8.000000e+00</td>\n",
       "      <td>1.080000e+03</td>\n",
       "    </tr>\n",
       "    <tr>\n",
       "      <th>max</th>\n",
       "      <td>2.845930e+06</td>\n",
       "      <td>4.148160e+06</td>\n",
       "      <td>2.621440e+05</td>\n",
       "      <td>3.200000e+01</td>\n",
       "      <td>2.960000e+03</td>\n",
       "    </tr>\n",
       "  </tbody>\n",
       "</table>\n",
       "</div>"
      ],
      "text/plain": [
       "              uid_s  device_mem_grouping_i  device_gmem_grouping_i  \\\n",
       "count  2.845930e+06           2.845930e+06            2.845930e+06   \n",
       "mean   1.422965e+06           2.701934e+03            8.180216e+02   \n",
       "std    8.215498e+05           2.871435e+03            5.216923e+02   \n",
       "min    0.000000e+00           3.840000e+02            1.280000e+02   \n",
       "25%    7.114822e+05           1.856000e+03            5.120000e+02   \n",
       "50%    1.422964e+06           2.816000e+03            1.024000e+03   \n",
       "75%    2.134448e+06           3.648000e+03            1.024000e+03   \n",
       "max    2.845930e+06           4.148160e+06            2.621440e+05   \n",
       "\n",
       "       device_numcpu_i  device_height_i  \n",
       "count     2.845930e+06     2.845930e+06  \n",
       "mean      5.814524e+00     8.908536e+02  \n",
       "std       2.426736e+00     2.548661e+02  \n",
       "min       1.000000e+00     2.400000e+02  \n",
       "25%       4.000000e+00     7.200000e+02  \n",
       "50%       8.000000e+00     8.000000e+02  \n",
       "75%       8.000000e+00     1.080000e+03  \n",
       "max       3.200000e+01     2.960000e+03  "
      ]
     },
     "execution_count": 131,
     "metadata": {},
     "output_type": "execute_result"
    }
   ],
   "source": [
    "ka_devices.describe()"
   ]
  },
  {
   "cell_type": "code",
   "execution_count": 139,
   "metadata": {},
   "outputs": [
    {
     "data": {
      "image/png": "[encoded data removed]",
      "text/plain": [
       "<Figure size 1080x936 with 8 Axes>"
      ]
     },
     "metadata": {
      "needs_background": "light"
     },
     "output_type": "display_data"
    }
   ],
   "source": [
    "#Check numerical variables' distributions\n",
    "fig, ax = plt.subplots(4, 2, figsize = (15, 13))\n",
    "sns.boxplot(x= ka_devices.device_mem_grouping_i, ax = ax[0,0])\n",
    "sns.distplot(ka_devices.device_mem_grouping_i, ax = ax[0,1])\n",
    "sns.boxplot(x= ka_devices.device_gmem_grouping_i, ax = ax[1,0])\n",
    "sns.distplot(ka_devices.device_gmem_grouping_i, ax = ax[1,1])\n",
    "sns.boxplot(x= ka_devices.device_numcpu_i, ax = ax[2,0])\n",
    "sns.distplot(ka_devices.device_numcpu_i, ax = ax[2,1])\n",
    "sns.boxplot(x= ka_devices.device_height_i, ax = ax[3,0])\n",
    "sns.distplot(ka_devices.device_height_i, ax = ax[3,1])\n",
    "plt.tight_layout()"
   ]
  },
  {
   "cell_type": "markdown",
   "metadata": {},
   "source": [
    "### Remove Outliers based on Z score"
   ]
  },
  {
   "cell_type": "code",
   "execution_count": 245,
   "metadata": {},
   "outputs": [],
   "source": [
    "ka_devices = ka_devices[~((np.abs(stats.zscore(ka_devices.device_gmem_grouping_i))>3)\n",
    "           | (np.abs(stats.zscore(ka_devices.device_mem_grouping_i))>3)\n",
    "          | (np.abs(stats.zscore(ka_devices.device_numcpu_i))>3))\n",
    "                  ]"
   ]
  },
  {
   "cell_type": "code",
   "execution_count": 286,
   "metadata": {},
   "outputs": [
    {
     "data": {
      "image/png": "[encoded data removed]",
      "text/plain": [
       "<Figure size 1080x936 with 8 Axes>"
      ]
     },
     "metadata": {
      "needs_background": "light"
     },
     "output_type": "display_data"
    }
   ],
   "source": [
    "# Distibution after remove outliers\n",
    "fig, ax = plt.subplots(4, 2, figsize = (15, 13))\n",
    "sns.boxplot(x= ka_devices.device_mem_grouping_i, ax = ax[0,0])\n",
    "sns.distplot(ka_devices.device_mem_grouping_i, ax = ax[0,1])\n",
    "sns.boxplot(x= ka_devices.device_gmem_grouping_i, ax = ax[1,0])\n",
    "sns.distplot(ka_devices.device_gmem_grouping_i, ax = ax[1,1])\n",
    "sns.boxplot(x= ka_devices.device_numcpu_i, ax = ax[2,0])\n",
    "sns.distplot(ka_devices.device_numcpu_i, ax = ax[2,1])\n",
    "sns.boxplot(x= ka_devices.device_height_i, ax = ax[3,0])\n",
    "sns.distplot(ka_devices.device_height_i, ax = ax[3,1])\n",
    "plt.tight_layout()"
   ]
  },
  {
   "cell_type": "markdown",
   "metadata": {},
   "source": [
    "## Explore ka_actions"
   ]
  },
  {
   "cell_type": "code",
   "execution_count": 146,
   "metadata": {},
   "outputs": [
    {
     "data": {
      "text/html": [
       "<div>\n",
       "<style scoped>\n",
       "    .dataframe tbody tr th:only-of-type {\n",
       "        vertical-align: middle;\n",
       "    }\n",
       "\n",
       "    .dataframe tbody tr th {\n",
       "        vertical-align: top;\n",
       "    }\n",
       "\n",
       "    .dataframe thead th {\n",
       "        text-align: right;\n",
       "    }\n",
       "</style>\n",
       "<table border=\"1\" class=\"dataframe\">\n",
       "  <thead>\n",
       "    <tr style=\"text-align: right;\">\n",
       "      <th></th>\n",
       "      <th>uid_s</th>\n",
       "      <th>logins</th>\n",
       "      <th>game_stats_tutorial_complete</th>\n",
       "      <th>game_stats_tutorial_complete_time</th>\n",
       "      <th>game_stats_xp</th>\n",
       "      <th>game_stats_xp1</th>\n",
       "      <th>game_stats_xp2</th>\n",
       "      <th>game_stats_xp3</th>\n",
       "      <th>redeemer_actions</th>\n",
       "      <th>scribe_actions</th>\n",
       "    </tr>\n",
       "  </thead>\n",
       "  <tbody>\n",
       "    <tr>\n",
       "      <th>0</th>\n",
       "      <td>0</td>\n",
       "      <td>7.0</td>\n",
       "      <td>1.0</td>\n",
       "      <td>4.700000e+08</td>\n",
       "      <td>1693.0</td>\n",
       "      <td>592.0</td>\n",
       "      <td>0.0</td>\n",
       "      <td>429.0</td>\n",
       "      <td>446.0</td>\n",
       "      <td>364.0</td>\n",
       "    </tr>\n",
       "    <tr>\n",
       "      <th>1</th>\n",
       "      <td>1</td>\n",
       "      <td>2.0</td>\n",
       "      <td>1.0</td>\n",
       "      <td>6.120000e+08</td>\n",
       "      <td>197.0</td>\n",
       "      <td>197.0</td>\n",
       "      <td>0.0</td>\n",
       "      <td>0.0</td>\n",
       "      <td>60.0</td>\n",
       "      <td>125.0</td>\n",
       "    </tr>\n",
       "    <tr>\n",
       "      <th>2</th>\n",
       "      <td>2</td>\n",
       "      <td>2.0</td>\n",
       "      <td>1.0</td>\n",
       "      <td>3.900000e+08</td>\n",
       "      <td>313.0</td>\n",
       "      <td>313.0</td>\n",
       "      <td>0.0</td>\n",
       "      <td>0.0</td>\n",
       "      <td>89.0</td>\n",
       "      <td>129.0</td>\n",
       "    </tr>\n",
       "    <tr>\n",
       "      <th>3</th>\n",
       "      <td>3</td>\n",
       "      <td>3.0</td>\n",
       "      <td>1.0</td>\n",
       "      <td>6.610000e+08</td>\n",
       "      <td>1319.0</td>\n",
       "      <td>1319.0</td>\n",
       "      <td>0.0</td>\n",
       "      <td>0.0</td>\n",
       "      <td>275.0</td>\n",
       "      <td>200.0</td>\n",
       "    </tr>\n",
       "    <tr>\n",
       "      <th>4</th>\n",
       "      <td>4</td>\n",
       "      <td>4.0</td>\n",
       "      <td>1.0</td>\n",
       "      <td>3.147000e+09</td>\n",
       "      <td>148.0</td>\n",
       "      <td>148.0</td>\n",
       "      <td>0.0</td>\n",
       "      <td>0.0</td>\n",
       "      <td>58.0</td>\n",
       "      <td>138.0</td>\n",
       "    </tr>\n",
       "  </tbody>\n",
       "</table>\n",
       "</div>"
      ],
      "text/plain": [
       "   uid_s  logins  game_stats_tutorial_complete  \\\n",
       "0      0     7.0                           1.0   \n",
       "1      1     2.0                           1.0   \n",
       "2      2     2.0                           1.0   \n",
       "3      3     3.0                           1.0   \n",
       "4      4     4.0                           1.0   \n",
       "\n",
       "   game_stats_tutorial_complete_time  game_stats_xp  game_stats_xp1  \\\n",
       "0                       4.700000e+08         1693.0           592.0   \n",
       "1                       6.120000e+08          197.0           197.0   \n",
       "2                       3.900000e+08          313.0           313.0   \n",
       "3                       6.610000e+08         1319.0          1319.0   \n",
       "4                       3.147000e+09          148.0           148.0   \n",
       "\n",
       "   game_stats_xp2  game_stats_xp3  redeemer_actions  scribe_actions  \n",
       "0             0.0           429.0             446.0           364.0  \n",
       "1             0.0             0.0              60.0           125.0  \n",
       "2             0.0             0.0              89.0           129.0  \n",
       "3             0.0             0.0             275.0           200.0  \n",
       "4             0.0             0.0              58.0           138.0  "
      ]
     },
     "execution_count": 146,
     "metadata": {},
     "output_type": "execute_result"
    }
   ],
   "source": [
    "ka_actions.head()"
   ]
  },
  {
   "cell_type": "code",
   "execution_count": 148,
   "metadata": {},
   "outputs": [
    {
     "data": {
      "text/plain": [
       "1.0    1751748\n",
       "NaN    1088934\n",
       "0.0       5249\n",
       "Name: game_stats_tutorial_complete, dtype: int64"
      ]
     },
     "execution_count": 148,
     "metadata": {},
     "output_type": "execute_result"
    }
   ],
   "source": [
    "ka_actions.game_stats_tutorial_complete.value_counts(dropna = False)"
   ]
  },
  {
   "cell_type": "code",
   "execution_count": 116,
   "metadata": {},
   "outputs": [
    {
     "data": {
      "text/plain": [
       "uid_s                                      0\n",
       "logins                                    37\n",
       "game_stats_tutorial_complete         1088934\n",
       "game_stats_tutorial_complete_time    1094183\n",
       "game_stats_xp                         762888\n",
       "game_stats_xp1                        762888\n",
       "game_stats_xp2                        762888\n",
       "game_stats_xp3                        762888\n",
       "redeemer_actions                       10282\n",
       "scribe_actions                             1\n",
       "dtype: int64"
      ]
     },
     "execution_count": 116,
     "metadata": {},
     "output_type": "execute_result"
    }
   ],
   "source": [
    "ka_actions.isnull().sum()"
   ]
  },
  {
   "cell_type": "markdown",
   "metadata": {},
   "source": [
    "### First Thought\n",
    "**logins**: check distribution and impute NA <br>\n",
    "**game_stats_tutorial_complete**: More than 1/3 of data are Null, should drop this feature <br>\n",
    "**game_stats_tutorial_complete_time**: More than 1/3 of data are Null, should drop this feature <br>\n",
    "**game_stats_xp 1,2,3**: they all have same number of NA, which indicates players whose XP got missed in the first interval would also got missed in the rest of consecutive intervals. Since these features have good business value, instead of dropping, check distributions and impute NA<br>\n",
    "**redeemer_actions**: check distribution and impute NA <br>\n",
    "**scribe_actions**: delete the row with NA\n"
   ]
  },
  {
   "cell_type": "code",
   "execution_count": 182,
   "metadata": {},
   "outputs": [],
   "source": [
    "# Remove NA\n",
    "ka_actions = ka_actions[~ka_actions.scribe_actions.isnull()]"
   ]
  },
  {
   "cell_type": "code",
   "execution_count": 183,
   "metadata": {},
   "outputs": [],
   "source": [
    "# Drop Features\n",
    "ka_actions = ka_actions.drop(['game_stats_tutorial_complete','game_stats_tutorial_complete_time'],axis = 1)"
   ]
  },
  {
   "cell_type": "code",
   "execution_count": 203,
   "metadata": {},
   "outputs": [
    {
     "data": {
      "text/html": [
       "<div>\n",
       "<style scoped>\n",
       "    .dataframe tbody tr th:only-of-type {\n",
       "        vertical-align: middle;\n",
       "    }\n",
       "\n",
       "    .dataframe tbody tr th {\n",
       "        vertical-align: top;\n",
       "    }\n",
       "\n",
       "    .dataframe thead th {\n",
       "        text-align: right;\n",
       "    }\n",
       "</style>\n",
       "<table border=\"1\" class=\"dataframe\">\n",
       "  <thead>\n",
       "    <tr style=\"text-align: right;\">\n",
       "      <th></th>\n",
       "      <th>uid_s</th>\n",
       "      <th>logins</th>\n",
       "      <th>game_stats_xp</th>\n",
       "      <th>game_stats_xp1</th>\n",
       "      <th>game_stats_xp2</th>\n",
       "      <th>game_stats_xp3</th>\n",
       "      <th>redeemer_actions</th>\n",
       "      <th>scribe_actions</th>\n",
       "    </tr>\n",
       "  </thead>\n",
       "  <tbody>\n",
       "    <tr>\n",
       "      <th>count</th>\n",
       "      <td>2.845930e+06</td>\n",
       "      <td>2.845894e+06</td>\n",
       "      <td>2.083043e+06</td>\n",
       "      <td>2.083043e+06</td>\n",
       "      <td>2.083043e+06</td>\n",
       "      <td>2.083043e+06</td>\n",
       "      <td>2.835649e+06</td>\n",
       "      <td>2.845930e+06</td>\n",
       "    </tr>\n",
       "    <tr>\n",
       "      <th>mean</th>\n",
       "      <td>1.422965e+06</td>\n",
       "      <td>2.961407e+00</td>\n",
       "      <td>8.966738e+02</td>\n",
       "      <td>4.481845e+02</td>\n",
       "      <td>1.290063e+02</td>\n",
       "      <td>7.907115e+01</td>\n",
       "      <td>1.312056e+02</td>\n",
       "      <td>1.332405e+02</td>\n",
       "    </tr>\n",
       "    <tr>\n",
       "      <th>std</th>\n",
       "      <td>8.215498e+05</td>\n",
       "      <td>2.254042e+00</td>\n",
       "      <td>7.353939e+03</td>\n",
       "      <td>6.952799e+03</td>\n",
       "      <td>5.728121e+02</td>\n",
       "      <td>5.018453e+02</td>\n",
       "      <td>2.295778e+02</td>\n",
       "      <td>9.406660e+01</td>\n",
       "    </tr>\n",
       "    <tr>\n",
       "      <th>min</th>\n",
       "      <td>0.000000e+00</td>\n",
       "      <td>1.000000e+00</td>\n",
       "      <td>5.000000e+00</td>\n",
       "      <td>0.000000e+00</td>\n",
       "      <td>0.000000e+00</td>\n",
       "      <td>0.000000e+00</td>\n",
       "      <td>1.000000e+00</td>\n",
       "      <td>3.000000e+00</td>\n",
       "    </tr>\n",
       "    <tr>\n",
       "      <th>25%</th>\n",
       "      <td>7.114822e+05</td>\n",
       "      <td>2.000000e+00</td>\n",
       "      <td>9.000000e+01</td>\n",
       "      <td>8.000000e+01</td>\n",
       "      <td>0.000000e+00</td>\n",
       "      <td>0.000000e+00</td>\n",
       "      <td>2.500000e+01</td>\n",
       "      <td>7.000000e+01</td>\n",
       "    </tr>\n",
       "    <tr>\n",
       "      <th>50%</th>\n",
       "      <td>1.422966e+06</td>\n",
       "      <td>2.000000e+00</td>\n",
       "      <td>3.130000e+02</td>\n",
       "      <td>3.090000e+02</td>\n",
       "      <td>0.000000e+00</td>\n",
       "      <td>0.000000e+00</td>\n",
       "      <td>5.300000e+01</td>\n",
       "      <td>1.290000e+02</td>\n",
       "    </tr>\n",
       "    <tr>\n",
       "      <th>75%</th>\n",
       "      <td>2.134448e+06</td>\n",
       "      <td>3.000000e+00</td>\n",
       "      <td>7.860000e+02</td>\n",
       "      <td>5.950000e+02</td>\n",
       "      <td>0.000000e+00</td>\n",
       "      <td>0.000000e+00</td>\n",
       "      <td>1.340000e+02</td>\n",
       "      <td>1.670000e+02</td>\n",
       "    </tr>\n",
       "    <tr>\n",
       "      <th>max</th>\n",
       "      <td>2.845930e+06</td>\n",
       "      <td>8.790000e+02</td>\n",
       "      <td>1.000023e+07</td>\n",
       "      <td>1.000023e+07</td>\n",
       "      <td>4.604800e+04</td>\n",
       "      <td>4.697300e+04</td>\n",
       "      <td>9.078000e+03</td>\n",
       "      <td>1.072000e+04</td>\n",
       "    </tr>\n",
       "  </tbody>\n",
       "</table>\n",
       "</div>"
      ],
      "text/plain": [
       "              uid_s        logins  game_stats_xp  game_stats_xp1  \\\n",
       "count  2.845930e+06  2.845894e+06   2.083043e+06    2.083043e+06   \n",
       "mean   1.422965e+06  2.961407e+00   8.966738e+02    4.481845e+02   \n",
       "std    8.215498e+05  2.254042e+00   7.353939e+03    6.952799e+03   \n",
       "min    0.000000e+00  1.000000e+00   5.000000e+00    0.000000e+00   \n",
       "25%    7.114822e+05  2.000000e+00   9.000000e+01    8.000000e+01   \n",
       "50%    1.422966e+06  2.000000e+00   3.130000e+02    3.090000e+02   \n",
       "75%    2.134448e+06  3.000000e+00   7.860000e+02    5.950000e+02   \n",
       "max    2.845930e+06  8.790000e+02   1.000023e+07    1.000023e+07   \n",
       "\n",
       "       game_stats_xp2  game_stats_xp3  redeemer_actions  scribe_actions  \n",
       "count    2.083043e+06    2.083043e+06      2.835649e+06    2.845930e+06  \n",
       "mean     1.290063e+02    7.907115e+01      1.312056e+02    1.332405e+02  \n",
       "std      5.728121e+02    5.018453e+02      2.295778e+02    9.406660e+01  \n",
       "min      0.000000e+00    0.000000e+00      1.000000e+00    3.000000e+00  \n",
       "25%      0.000000e+00    0.000000e+00      2.500000e+01    7.000000e+01  \n",
       "50%      0.000000e+00    0.000000e+00      5.300000e+01    1.290000e+02  \n",
       "75%      0.000000e+00    0.000000e+00      1.340000e+02    1.670000e+02  \n",
       "max      4.604800e+04    4.697300e+04      9.078000e+03    1.072000e+04  "
      ]
     },
     "execution_count": 203,
     "metadata": {},
     "output_type": "execute_result"
    }
   ],
   "source": [
    "ka_actions.describe()"
   ]
  },
  {
   "cell_type": "code",
   "execution_count": 242,
   "metadata": {},
   "outputs": [],
   "source": [
    "ka_actions_sub = ka_actions.iloc[:,1:]"
   ]
  },
  {
   "cell_type": "code",
   "execution_count": 187,
   "metadata": {},
   "outputs": [
    {
     "data": {
      "image/png": "[encoded data removed]",
      "text/plain": [
       "<Figure size 1080x936 with 7 Axes>"
      ]
     },
     "metadata": {
      "needs_background": "light"
     },
     "output_type": "display_data"
    }
   ],
   "source": [
    "# Check all numerical feaures' distributions\n",
    "fig = plt.figure(figsize=(15,13))\n",
    "fig.suptitle(\"XP distribution over time interval\",fontsize=20)\n",
    "for i,col in enumerate(ka_actions_sub.columns):\n",
    "    myax=fig.add_subplot(4,2,i+1)\n",
    "    sns.distplot(ka_actions_sub[col].dropna(),kde=False,ax=myax,hist_kws={'log':True})\n",
    "    if i % 2 == 0:\n",
    "        myax.set_ylabel(\"Count (log)\")"
   ]
  },
  {
   "cell_type": "markdown",
   "metadata": {},
   "source": [
    "### Observations\n",
    "Since all of the log distributions are right skewed, I should not identify outliers by z score or IQR.<br>\n",
    "I should remove outliers based on visulizations and then impute NA with median. "
   ]
  },
  {
   "cell_type": "code",
   "execution_count": 247,
   "metadata": {},
   "outputs": [],
   "source": [
    "# Remove Outliers\n",
    "ka_actions = ka_actions[~((ka_actions.logins > 800)|\n",
    "          (ka_actions.game_stats_xp > 1000000)|\n",
    "          (ka_actions.game_stats_xp2 > 40000)|\n",
    "          (ka_actions.game_stats_xp3 > 40000) |\n",
    "           (ka_actions.redeemer_actions > 8000)|\n",
    "           (ka_actions.scribe_actions > 10000)\n",
    "            )]"
   ]
  },
  {
   "cell_type": "code",
   "execution_count": 253,
   "metadata": {},
   "outputs": [],
   "source": [
    "# impute NA with median\n",
    "for i in ka_actions_sub.columns:\n",
    "    ka_actions[i].fillna((ka_actions[i].median()),inplace = True)\n",
    "    "
   ]
  },
  {
   "cell_type": "markdown",
   "metadata": {},
   "source": [
    "## Explore ka_users"
   ]
  },
  {
   "cell_type": "code",
   "execution_count": 273,
   "metadata": {},
   "outputs": [
    {
     "data": {
      "text/html": [
       "<div>\n",
       "<style scoped>\n",
       "    .dataframe tbody tr th:only-of-type {\n",
       "        vertical-align: middle;\n",
       "    }\n",
       "\n",
       "    .dataframe tbody tr th {\n",
       "        vertical-align: top;\n",
       "    }\n",
       "\n",
       "    .dataframe thead th {\n",
       "        text-align: right;\n",
       "    }\n",
       "</style>\n",
       "<table border=\"1\" class=\"dataframe\">\n",
       "  <thead>\n",
       "    <tr style=\"text-align: right;\">\n",
       "      <th></th>\n",
       "      <th>uid_s</th>\n",
       "      <th>lang_s</th>\n",
       "      <th>geo_s</th>\n",
       "      <th>region_s</th>\n",
       "      <th>tz_i</th>\n",
       "      <th>local_time_join_hour</th>\n",
       "      <th>local_time_join_dow</th>\n",
       "      <th>total_spend</th>\n",
       "    </tr>\n",
       "  </thead>\n",
       "  <tbody>\n",
       "    <tr>\n",
       "      <th>0</th>\n",
       "      <td>0</td>\n",
       "      <td>EN</td>\n",
       "      <td>MY</td>\n",
       "      <td>asia</td>\n",
       "      <td>28800</td>\n",
       "      <td>14</td>\n",
       "      <td>3</td>\n",
       "      <td>0</td>\n",
       "    </tr>\n",
       "    <tr>\n",
       "      <th>1</th>\n",
       "      <td>1</td>\n",
       "      <td>ES</td>\n",
       "      <td>MX</td>\n",
       "      <td>americas</td>\n",
       "      <td>-18000</td>\n",
       "      <td>14</td>\n",
       "      <td>1</td>\n",
       "      <td>0</td>\n",
       "    </tr>\n",
       "    <tr>\n",
       "      <th>2</th>\n",
       "      <td>2</td>\n",
       "      <td>ZH-CN</td>\n",
       "      <td>CN</td>\n",
       "      <td>asia</td>\n",
       "      <td>28800</td>\n",
       "      <td>2</td>\n",
       "      <td>3</td>\n",
       "      <td>0</td>\n",
       "    </tr>\n",
       "    <tr>\n",
       "      <th>3</th>\n",
       "      <td>3</td>\n",
       "      <td>ZH-CN</td>\n",
       "      <td>CN</td>\n",
       "      <td>asia</td>\n",
       "      <td>28800</td>\n",
       "      <td>8</td>\n",
       "      <td>6</td>\n",
       "      <td>0</td>\n",
       "    </tr>\n",
       "    <tr>\n",
       "      <th>4</th>\n",
       "      <td>4</td>\n",
       "      <td>EN</td>\n",
       "      <td>IN</td>\n",
       "      <td>asia</td>\n",
       "      <td>19800</td>\n",
       "      <td>19</td>\n",
       "      <td>6</td>\n",
       "      <td>0</td>\n",
       "    </tr>\n",
       "  </tbody>\n",
       "</table>\n",
       "</div>"
      ],
      "text/plain": [
       "   uid_s lang_s geo_s  region_s   tz_i  local_time_join_hour  \\\n",
       "0      0     EN    MY      asia  28800                    14   \n",
       "1      1     ES    MX  americas -18000                    14   \n",
       "2      2  ZH-CN    CN      asia  28800                     2   \n",
       "3      3  ZH-CN    CN      asia  28800                     8   \n",
       "4      4     EN    IN      asia  19800                    19   \n",
       "\n",
       "   local_time_join_dow  total_spend  \n",
       "0                    3            0  \n",
       "1                    1            0  \n",
       "2                    3            0  \n",
       "3                    6            0  \n",
       "4                    6            0  "
      ]
     },
     "execution_count": 273,
     "metadata": {},
     "output_type": "execute_result"
    }
   ],
   "source": [
    "ka_users.head()"
   ]
  },
  {
   "cell_type": "code",
   "execution_count": 274,
   "metadata": {},
   "outputs": [
    {
     "data": {
      "text/plain": [
       "uid_s                   2845931\n",
       "lang_s                       17\n",
       "geo_s                       229\n",
       "region_s                      6\n",
       "tz_i                         34\n",
       "local_time_join_hour         24\n",
       "local_time_join_dow           7\n",
       "total_spend                  79\n",
       "dtype: int64"
      ]
     },
     "execution_count": 274,
     "metadata": {},
     "output_type": "execute_result"
    }
   ],
   "source": [
    "ka_users.apply(lambda x: len(x.unique()))"
   ]
  },
  {
   "cell_type": "markdown",
   "metadata": {},
   "source": [
    "### First Thought\n",
    "Feature lang_s, geo_s, region_s and tz_i have high correlation since all of them represent where the players located.<br> \n",
    "In particular, country level location of the user (geo_s) represent more detailed informantion than time zone of the users. To keep the model simple, I will drop the feature **tz_i** <br>\n",
    "**geo_s**: limit the levels\n"
   ]
  },
  {
   "cell_type": "code",
   "execution_count": 275,
   "metadata": {},
   "outputs": [
    {
     "data": {
      "text/plain": [
       "uid_s                     0\n",
       "lang_s                    0\n",
       "geo_s                   126\n",
       "region_s                  0\n",
       "tz_i                      0\n",
       "local_time_join_hour      0\n",
       "local_time_join_dow       0\n",
       "total_spend               0\n",
       "dtype: int64"
      ]
     },
     "execution_count": 275,
     "metadata": {},
     "output_type": "execute_result"
    }
   ],
   "source": [
    "ka_users.isnull().sum()"
   ]
  },
  {
   "cell_type": "code",
   "execution_count": 280,
   "metadata": {},
   "outputs": [],
   "source": [
    "# Drop tz_i and drop NA\n",
    "ka_users = ka_users.drop(['tz_i'],axis = 1)\n",
    "ka_users = ka_users.dropna(subset=['geo_s'])"
   ]
  },
  {
   "cell_type": "code",
   "execution_count": 305,
   "metadata": {},
   "outputs": [],
   "source": [
    "# Limit the levels of geo_s\n",
    "ka_users = select_features(ka_users,'geo_s')"
   ]
  },
  {
   "cell_type": "code",
   "execution_count": 307,
   "metadata": {},
   "outputs": [
    {
     "data": {
      "text/plain": [
       "<AxesSubplot:>"
      ]
     },
     "execution_count": 307,
     "metadata": {},
     "output_type": "execute_result"
    },
    {
     "data": {
      "image/png": "[encoded data removed]",
      "text/plain": [
       "<Figure size 432x288 with 1 Axes>"
      ]
     },
     "metadata": {
      "needs_background": "light"
     },
     "output_type": "display_data"
    }
   ],
   "source": [
    "ka_users.geo_s.value_counts().plot(kind = 'bar')"
   ]
  },
  {
   "cell_type": "markdown",
   "metadata": {},
   "source": [
    "## Preprocess Data"
   ]
  },
  {
   "cell_type": "code",
   "execution_count": 309,
   "metadata": {},
   "outputs": [
    {
     "name": "stdout",
     "output_type": "stream",
     "text": [
      "Merged table's shape is:  (2844766, 21)\n"
     ]
    }
   ],
   "source": [
    "ka_ac_devi = pd.merge(ka_actions,ka_devices,on=\"uid_s\")\n",
    "ka = pd.merge(ka_ac_devi,ka_users,on=\"uid_s\")\n",
    "print(\"Merged table's shape is: \",ka.shape)"
   ]
  },
  {
   "cell_type": "code",
   "execution_count": 310,
   "metadata": {},
   "outputs": [
    {
     "data": {
      "text/html": [
       "<div>\n",
       "<style scoped>\n",
       "    .dataframe tbody tr th:only-of-type {\n",
       "        vertical-align: middle;\n",
       "    }\n",
       "\n",
       "    .dataframe tbody tr th {\n",
       "        vertical-align: top;\n",
       "    }\n",
       "\n",
       "    .dataframe thead th {\n",
       "        text-align: right;\n",
       "    }\n",
       "</style>\n",
       "<table border=\"1\" class=\"dataframe\">\n",
       "  <thead>\n",
       "    <tr style=\"text-align: right;\">\n",
       "      <th></th>\n",
       "      <th>uid_s</th>\n",
       "      <th>logins</th>\n",
       "      <th>game_stats_xp</th>\n",
       "      <th>game_stats_xp1</th>\n",
       "      <th>game_stats_xp2</th>\n",
       "      <th>game_stats_xp3</th>\n",
       "      <th>redeemer_actions</th>\n",
       "      <th>scribe_actions</th>\n",
       "      <th>platform_s</th>\n",
       "      <th>device_manufacturer_s</th>\n",
       "      <th>...</th>\n",
       "      <th>device_gmem_grouping_i</th>\n",
       "      <th>device_numcpu_i</th>\n",
       "      <th>device_height_i</th>\n",
       "      <th>device_gpu_s</th>\n",
       "      <th>lang_s</th>\n",
       "      <th>geo_s</th>\n",
       "      <th>region_s</th>\n",
       "      <th>local_time_join_hour</th>\n",
       "      <th>local_time_join_dow</th>\n",
       "      <th>total_spend</th>\n",
       "    </tr>\n",
       "  </thead>\n",
       "  <tbody>\n",
       "    <tr>\n",
       "      <th>0</th>\n",
       "      <td>0</td>\n",
       "      <td>7.0</td>\n",
       "      <td>1693.0</td>\n",
       "      <td>592.0</td>\n",
       "      <td>0.0</td>\n",
       "      <td>429.0</td>\n",
       "      <td>446.0</td>\n",
       "      <td>364.0</td>\n",
       "      <td>android</td>\n",
       "      <td>Other</td>\n",
       "      <td>...</td>\n",
       "      <td>1024.0</td>\n",
       "      <td>8.0</td>\n",
       "      <td>720.0</td>\n",
       "      <td>adreno (tm) 506</td>\n",
       "      <td>EN</td>\n",
       "      <td>Other</td>\n",
       "      <td>asia</td>\n",
       "      <td>14</td>\n",
       "      <td>3</td>\n",
       "      <td>0</td>\n",
       "    </tr>\n",
       "    <tr>\n",
       "      <th>1</th>\n",
       "      <td>1</td>\n",
       "      <td>2.0</td>\n",
       "      <td>197.0</td>\n",
       "      <td>197.0</td>\n",
       "      <td>0.0</td>\n",
       "      <td>0.0</td>\n",
       "      <td>60.0</td>\n",
       "      <td>125.0</td>\n",
       "      <td>android</td>\n",
       "      <td>motorola</td>\n",
       "      <td>...</td>\n",
       "      <td>512.0</td>\n",
       "      <td>8.0</td>\n",
       "      <td>1080.0</td>\n",
       "      <td>adreno (tm) 505</td>\n",
       "      <td>ES</td>\n",
       "      <td>MX</td>\n",
       "      <td>americas</td>\n",
       "      <td>14</td>\n",
       "      <td>1</td>\n",
       "      <td>0</td>\n",
       "    </tr>\n",
       "    <tr>\n",
       "      <th>2</th>\n",
       "      <td>2</td>\n",
       "      <td>2.0</td>\n",
       "      <td>313.0</td>\n",
       "      <td>313.0</td>\n",
       "      <td>0.0</td>\n",
       "      <td>0.0</td>\n",
       "      <td>89.0</td>\n",
       "      <td>129.0</td>\n",
       "      <td>android</td>\n",
       "      <td>xiaomi</td>\n",
       "      <td>...</td>\n",
       "      <td>1024.0</td>\n",
       "      <td>8.0</td>\n",
       "      <td>1080.0</td>\n",
       "      <td>adreno (tm) 540</td>\n",
       "      <td>ZH-CN</td>\n",
       "      <td>CN</td>\n",
       "      <td>asia</td>\n",
       "      <td>2</td>\n",
       "      <td>3</td>\n",
       "      <td>0</td>\n",
       "    </tr>\n",
       "    <tr>\n",
       "      <th>3</th>\n",
       "      <td>3</td>\n",
       "      <td>3.0</td>\n",
       "      <td>1319.0</td>\n",
       "      <td>1319.0</td>\n",
       "      <td>0.0</td>\n",
       "      <td>0.0</td>\n",
       "      <td>275.0</td>\n",
       "      <td>200.0</td>\n",
       "      <td>android</td>\n",
       "      <td>oppo</td>\n",
       "      <td>...</td>\n",
       "      <td>1024.0</td>\n",
       "      <td>8.0</td>\n",
       "      <td>1080.0</td>\n",
       "      <td>adreno (tm) 405</td>\n",
       "      <td>ZH-CN</td>\n",
       "      <td>CN</td>\n",
       "      <td>asia</td>\n",
       "      <td>8</td>\n",
       "      <td>6</td>\n",
       "      <td>0</td>\n",
       "    </tr>\n",
       "    <tr>\n",
       "      <th>4</th>\n",
       "      <td>4</td>\n",
       "      <td>4.0</td>\n",
       "      <td>148.0</td>\n",
       "      <td>148.0</td>\n",
       "      <td>0.0</td>\n",
       "      <td>0.0</td>\n",
       "      <td>58.0</td>\n",
       "      <td>138.0</td>\n",
       "      <td>android</td>\n",
       "      <td>oppo</td>\n",
       "      <td>...</td>\n",
       "      <td>1024.0</td>\n",
       "      <td>8.0</td>\n",
       "      <td>720.0</td>\n",
       "      <td>adreno (tm) 506</td>\n",
       "      <td>EN</td>\n",
       "      <td>IN</td>\n",
       "      <td>asia</td>\n",
       "      <td>19</td>\n",
       "      <td>6</td>\n",
       "      <td>0</td>\n",
       "    </tr>\n",
       "  </tbody>\n",
       "</table>\n",
       "<p>5 rows × 21 columns</p>\n",
       "</div>"
      ],
      "text/plain": [
       "   uid_s  logins  game_stats_xp  game_stats_xp1  game_stats_xp2  \\\n",
       "0      0     7.0         1693.0           592.0             0.0   \n",
       "1      1     2.0          197.0           197.0             0.0   \n",
       "2      2     2.0          313.0           313.0             0.0   \n",
       "3      3     3.0         1319.0          1319.0             0.0   \n",
       "4      4     4.0          148.0           148.0             0.0   \n",
       "\n",
       "   game_stats_xp3  redeemer_actions  scribe_actions platform_s  \\\n",
       "0           429.0             446.0           364.0    android   \n",
       "1             0.0              60.0           125.0    android   \n",
       "2             0.0              89.0           129.0    android   \n",
       "3             0.0             275.0           200.0    android   \n",
       "4             0.0              58.0           138.0    android   \n",
       "\n",
       "  device_manufacturer_s  ...  device_gmem_grouping_i  device_numcpu_i  \\\n",
       "0                 Other  ...                  1024.0              8.0   \n",
       "1              motorola  ...                   512.0              8.0   \n",
       "2                xiaomi  ...                  1024.0              8.0   \n",
       "3                  oppo  ...                  1024.0              8.0   \n",
       "4                  oppo  ...                  1024.0              8.0   \n",
       "\n",
       "   device_height_i     device_gpu_s lang_s  geo_s  region_s  \\\n",
       "0            720.0  adreno (tm) 506     EN  Other      asia   \n",
       "1           1080.0  adreno (tm) 505     ES     MX  americas   \n",
       "2           1080.0  adreno (tm) 540  ZH-CN     CN      asia   \n",
       "3           1080.0  adreno (tm) 405  ZH-CN     CN      asia   \n",
       "4            720.0  adreno (tm) 506     EN     IN      asia   \n",
       "\n",
       "  local_time_join_hour  local_time_join_dow  total_spend  \n",
       "0                   14                    3            0  \n",
       "1                   14                    1            0  \n",
       "2                    2                    3            0  \n",
       "3                    8                    6            0  \n",
       "4                   19                    6            0  \n",
       "\n",
       "[5 rows x 21 columns]"
      ]
     },
     "execution_count": 310,
     "metadata": {},
     "output_type": "execute_result"
    }
   ],
   "source": [
    "ka.head()"
   ]
  },
  {
   "cell_type": "code",
   "execution_count": 311,
   "metadata": {},
   "outputs": [],
   "source": [
    "# Convert 'total_spend' to Boolean\n",
    "ka[\"whether_spend\"] = np.where(ka['total_spend']==0, 0, 1)\n",
    "ka_cf=ka.drop(['total_spend','uid_s'],axis=1)"
   ]
  },
  {
   "cell_type": "markdown",
   "metadata": {},
   "source": [
    "### Check proportions of Target"
   ]
  },
  {
   "cell_type": "code",
   "execution_count": 318,
   "metadata": {},
   "outputs": [
    {
     "name": "stdout",
     "output_type": "stream",
     "text": [
      "Number of money spending users: 32334, and the proportion is 1.14%\n",
      "Number of not money spending users: 2812432, and the proportion is 98.86%\n"
     ]
    }
   ],
   "source": [
    "y = ka_cf.whether_spend\n",
    "num_spend = (y == 1).sum()\n",
    "num_non_spend = (y == 0).sum()\n",
    "num_player = len(ka_cf)\n",
    "\n",
    "print('Number of money spending users: {0}, and the proportion is {1}%'.format(num_spend,\n",
    "                                                                              round(num_spend/num_player*100,2)))\n",
    "print('Number of not money spending users: {0}, and the proportion is {1}%'.format(num_non_spend,\n",
    "                                                                                   round(num_non_spend/num_player*100,2)))"
   ]
  },
  {
   "cell_type": "markdown",
   "metadata": {},
   "source": [
    "### Observations: \n",
    "From the proportions of target levels, I can identify this dataset is an imbalanced data.<br> \n",
    "I will \n",
    "1. Use stratify sampling technique when split data into training data and test data, so that binary target can have the same proportion in training and test dataset <br>\n",
    "2. Combine random oversampling from the minority class using SMOTE and random undersampling from majority class. <br>\n",
    "3. Used confusion matrix, specificity score, and AUC-ROC score to evaluate model"
   ]
  },
  {
   "cell_type": "code",
   "execution_count": 313,
   "metadata": {},
   "outputs": [],
   "source": [
    "# Create dummy variables (one hot encoding) for categorical variables \n",
    "categorical_cols = ['platform_s','device_manufacturer_s','device_gpu_s', 'lang_s', 'geo_s', 'region_s']\n",
    "ka_cf = pd.get_dummies(ka_cf,columns=categorical_cols)"
   ]
  },
  {
   "cell_type": "code",
   "execution_count": 315,
   "metadata": {},
   "outputs": [
    {
     "data": {
      "text/plain": [
       "(2844766, 98)"
      ]
     },
     "execution_count": 315,
     "metadata": {},
     "output_type": "execute_result"
    }
   ],
   "source": [
    "ka_cf.shape"
   ]
  },
  {
   "cell_type": "code",
   "execution_count": 322,
   "metadata": {},
   "outputs": [],
   "source": [
    "# X are predictive variables \n",
    "X= ka_cf.drop('whether_spend',axis=1)\n",
    "# y is target variables\n",
    "y=ka_cf['whether_spend']"
   ]
  },
  {
   "cell_type": "code",
   "execution_count": null,
   "metadata": {},
   "outputs": [],
   "source": [
    "# Split the data using stratified sampling \n",
    "X_train, X_test, y_train, y_test = train_test_split(X, y, test_size=0.25, random_state=42,stratify = y)\n",
    "print(f'''% Negative class in Train = {np.round(y_train.value_counts(normalize=True)[1] * 100, 2)}\n",
    "% Negative class in Test  = {np.round(y_test.value_counts(normalize=True)[1] * 100, 2)}''')"
   ]
  },
  {
   "cell_type": "code",
   "execution_count": 328,
   "metadata": {},
   "outputs": [],
   "source": [
    "# Standardize numerical variable for training data and test data repectively \n",
    "numerical_cols = ['logins', 'game_stats_xp', 'game_stats_xp1', 'game_stats_xp2',\n",
    "       'game_stats_xp3', 'redeemer_actions', 'scribe_actions','device_mem_grouping_i',\n",
    "       'device_gmem_grouping_i', 'device_numcpu_i', 'device_height_i','local_time_join_hour',\n",
    "       'local_time_join_dow']\n",
    "scaler = StandardScaler()\n",
    "X_train.loc[:,numerical_cols] = scaler.fit_transform(X_train.loc[:,numerical_cols])\n",
    "X_test.loc[:,numerical_cols] = scaler.fit_transform(X_test.loc[:,numerical_cols])\n"
   ]
  },
  {
   "cell_type": "code",
   "execution_count": 346,
   "metadata": {},
   "outputs": [
    {
     "name": "stdout",
     "output_type": "stream",
     "text": [
      "\n",
      "Balance of positive and negative classes (%):\n"
     ]
    },
    {
     "data": {
      "text/plain": [
       "0    66.666667\n",
       "1    33.333333\n",
       "Name: whether_spend, dtype: float64"
      ]
     },
     "execution_count": 346,
     "metadata": {},
     "output_type": "execute_result"
    }
   ],
   "source": [
    "# Oversampling minority class and undersampling majority calss in only training set \n",
    "over = SMOTE(sampling_strategy = 0.1, random_state=42)\n",
    "under = RandomUnderSampler(sampling_strategy = 0.5, random_state=42)\n",
    "steps = [('o',over),('u',under)]\n",
    "pipeline = Pipeline(steps= steps)\n",
    "X_sm, y_sm = pipeline.fit_resample(X_train,y_train)\n",
    "print('\\nBalance of positive and negative classes (%):')\n",
    "y_sm.value_counts(normalize=True) * 100"
   ]
  },
  {
   "cell_type": "markdown",
   "metadata": {},
   "source": [
    "### Customized Evaluation Metric"
   ]
  },
  {
   "cell_type": "code",
   "execution_count": null,
   "metadata": {},
   "outputs": [],
   "source": [
    "def show_scores(model,X_test,y_test):\n",
    "    '''\n",
    "    Show \n",
    "    1. Accurracy\n",
    "    2. Specificity (TN / TN + FP)\n",
    "    2. Confusion Matrix\n",
    "    3. ROC Curve\n",
    "    '''\n",
    "    y_predict=model.predict(X_test)\n",
    "    print(f'Accuracy = {accuracy_score(y_test, y_predict):.2f}\\n')\n",
    "    cm = confusion_matrix(y_test, y_predict)\n",
    "    tn, fp, fn, tp = cm.ravel()\n",
    "    print(f'Specificity = {tn/(tn+fp):.2f}\\n')\n",
    "    plt.figure(figsize=(8, 6))\n",
    "    plt.title('Confusion Matrix', size=16)\n",
    "    sns.heatmap(cm, annot=True, cmap='Blues')\n",
    "    metrics.plot_roc_curve(model,X_test,y_test)\n",
    "    plt.show()\n",
    "    "
   ]
  },
  {
   "cell_type": "markdown",
   "metadata": {},
   "source": [
    "## Ready for Modeling"
   ]
  },
  {
   "cell_type": "markdown",
   "metadata": {},
   "source": [
    "### Baseline Model: Random Forest"
   ]
  },
  {
   "cell_type": "code",
   "execution_count": 350,
   "metadata": {},
   "outputs": [
    {
     "name": "stdout",
     "output_type": "stream",
     "text": [
      "Accuracy = 0.58\n",
      "\n"
     ]
    },
    {
     "data": {
      "image/png": "[encoded data removed]",
      "text/plain": [
       "<Figure size 576x432 with 2 Axes>"
      ]
     },
     "metadata": {
      "needs_background": "light"
     },
     "output_type": "display_data"
    },
    {
     "data": {
      "image/png": "[encoded data removed]",
      "text/plain": [
       "<Figure size 432x288 with 1 Axes>"
      ]
     },
     "metadata": {
      "needs_background": "light"
     },
     "output_type": "display_data"
    }
   ],
   "source": [
    "rf=RandomForestClassifier(random_state=42)\n",
    "rf.fit(X_sm,y_sm)\n",
    "show_scores(rf,X_test,y_test)"
   ]
  },
  {
   "cell_type": "code",
   "execution_count": 357,
   "metadata": {},
   "outputs": [
    {
     "data": {
      "image/png": "[encoded data removed]",
      "text/plain": [
       "<Figure size 864x648 with 1 Axes>"
      ]
     },
     "metadata": {
      "needs_background": "light"
     },
     "output_type": "display_data"
    }
   ],
   "source": [
    "## Ploting Feature Importance\n",
    "coefs_dict = {X_sm.columns[i] : rf.feature_importances_[i] for i in range(X_sm.shape[1])}\n",
    "coefs_dict = sorted(coefs_dict.items(), key=lambda kv: kv[1], reverse=True)[:15]\n",
    "plt.figure(figsize=(12,9))\n",
    "\n",
    "plot = sns.barplot(y=[feature[0] for feature in coefs_dict],x=[feat_impr[1] for feat_impr in coefs_dict], color = \"darkorange\")\n",
    "plot.set(xlabel = \"feature importance\");"
   ]
  },
  {
   "cell_type": "code",
   "execution_count": null,
   "metadata": {},
   "outputs": [],
   "source": [
    "# Check relationship between target and important features\n",
    "fig = plt.figure(figsize=(10,10))\n",
    "fig.suptitle(\"Relationship between number of actions and whether spending money\",fontsize=20)\n",
    "myax=fig.add_subplot(2,2,1)\n",
    "sns.boxplot(y='scribe_actions',x='whether_spend',data=ka_cf,palette=\"colorblind\",width=0.5,ax=myax, showfliers=False)\n",
    "myax=fig.add_subplot(2,2,2)\n",
    "sns.boxplot(y='redeemer_actions',x='whether_spend',data=ka_cf,palette=\"colorblind\",width=0.5,ax=myax, showfliers=False);"
   ]
  },
  {
   "cell_type": "markdown",
   "metadata": {},
   "source": [
    "### Model Selection"
   ]
  },
  {
   "cell_type": "code",
   "execution_count": null,
   "metadata": {},
   "outputs": [],
   "source": [
    "results_dict = {\n",
    "                \n",
    "                'Classifier':[],\n",
    "                'Train Accuracy':[], \n",
    "                'Test Accuracy':[],\n",
    "                'F-1 Score':[],\n",
    "                'ROC AUC Score':[],\n",
    "                'Time':[]\n",
    "               }\n",
    "\n",
    "models = {\n",
    "    'random forest' : RandomForestClassifier(n_estimators=10),\n",
    "    'logistic regression': LogisticRegression(),\n",
    "    'SVM': SVC(),\n",
    "    'lgbm': LGBMClassifier()\n",
    "}\n",
    "\n",
    "for model_name, model in models.items():\n",
    "        start_time = time.time()\n",
    "        model.fit(X_sm, y_sm)\n",
    "        y_predict=model.predict(X_test)\n",
    "        f1 = f1_score(y_test,y_predict)\n",
    "        train_accuracy = model.score(X_sm, y_sm)\n",
    "        test_accuracy = model.score(X_test, y_test)\n",
    "        roc_auc = roc_auc_score(y_test,y_predict)\n",
    "        end_time = time.time()\n",
    "        Time = end_time - start_time\n",
    "        results_dict['Classifier'].append(model_name)\n",
    "        results_dict['Train Accuracy'].append(train_accuracy)\n",
    "        results_dict['Test Accuracy'].append(test_accuracy)\n",
    "        results_dict['F-1 Score'].append(f1)\n",
    "        results_dict['ROC AUC Score'].append(roc_auc)\n",
    "        results_dict['Time'].append(Time)"
   ]
  },
  {
   "cell_type": "code",
   "execution_count": null,
   "metadata": {},
   "outputs": [],
   "source": [
    "results_df = pd.DataFrame(results_dict)\n",
    "results_df"
   ]
  },
  {
   "cell_type": "markdown",
   "metadata": {},
   "source": [
    "### Tunning Hyperparameters of LGBM"
   ]
  },
  {
   "cell_type": "code",
   "execution_count": null,
   "metadata": {},
   "outputs": [],
   "source": [
    "lgbm = LGBMClassifier(random_state=42)\n",
    "params ={'num_leaves': np.arange(100, 500,100), \n",
    "         'min_data_in_leaf': np.arange(300,500,100),\n",
    "         'min_child_samples': np.arange(200, 500,100),\n",
    "         'max_depth': np.arange(-1,30,10)}\n",
    "\n",
    "gscv = RandomizedSearchCV(lgbm,params,cv=3,scoring='recall_micro')\n",
    "gscv.fit(X_train,y_train)"
   ]
  },
  {
   "cell_type": "code",
   "execution_count": null,
   "metadata": {},
   "outputs": [],
   "source": [
    "gscv.best_estimator_"
   ]
  },
  {
   "cell_type": "code",
   "execution_count": null,
   "metadata": {},
   "outputs": [],
   "source": [
    "show_scores(gscv)"
   ]
  },
  {
   "cell_type": "markdown",
   "metadata": {},
   "source": [
    "### Predict probability of spending money for test users"
   ]
  },
  {
   "cell_type": "code",
   "execution_count": null,
   "metadata": {},
   "outputs": [],
   "source": [
    "prob = best_model.predict_proba(X_test)\n",
    "final_result={'uid':uid,'proba_spend_money':prob[:,1]}\n",
    "final_df = pd.DataFrame(final_result)"
   ]
  },
  {
   "cell_type": "code",
   "execution_count": null,
   "metadata": {},
   "outputs": [],
   "source": [
    "# Save the model \n",
    "joblib.dump(gscv, 'gscv.sav')"
   ]
  }
 ],
 "metadata": {
  "kernelspec": {
   "display_name": "Python 3",
   "language": "python",
   "name": "python3"
  },
  "language_info": {
   "codemirror_mode": {
    "name": "ipython",
    "version": 3
   },
   "file_extension": ".py",
   "mimetype": "text/x-python",
   "name": "python",
   "nbconvert_exporter": "python",
   "pygments_lexer": "ipython3",
   "version": "3.8.7"
  }
 },
 "nbformat": 4,
 "nbformat_minor": 4
}
